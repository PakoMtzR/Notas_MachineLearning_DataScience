{
 "cells": [
  {
   "cell_type": "markdown",
   "id": "ff11c0ac-ffc9-4b90-ac10-4b3163577392",
   "metadata": {},
   "source": [
    "# Introducción a Matplotlib\n",
    "Matplotlib es una biblioteca integral para crear visualizaciones estáticas, animadas e interactivas en Python."
   ]
  },
  {
   "cell_type": "code",
   "execution_count": 1,
   "id": "8ba74d4e-c8a0-49f7-89f5-4f4ec24e2ad3",
   "metadata": {},
   "outputs": [],
   "source": [
    "import matplotlib.pyplot"
   ]
  }
 ],
 "metadata": {
  "kernelspec": {
   "display_name": "Python 3 (ipykernel)",
   "language": "python",
   "name": "python3"
  },
  "language_info": {
   "codemirror_mode": {
    "name": "ipython",
    "version": 3
   },
   "file_extension": ".py",
   "mimetype": "text/x-python",
   "name": "python",
   "nbconvert_exporter": "python",
   "pygments_lexer": "ipython3",
   "version": "3.12.5"
  }
 },
 "nbformat": 4,
 "nbformat_minor": 5
}
