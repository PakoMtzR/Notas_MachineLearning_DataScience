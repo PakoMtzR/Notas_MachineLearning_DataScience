{
 "cells": [
  {
   "cell_type": "markdown",
   "id": "6f19dc15-05ee-4cd2-bb09-99e96b9f3379",
   "metadata": {
    "jp-MarkdownHeadingCollapsed": true
   },
   "source": [
    "# Perceptron\n",
    "El perceptrón es un modelo matemático inspirado en las neuronas biológicas, utilizado en aprendizaje automático y redes neuronales artificiales. Es el modelo más simple de una red neuronal artificial y se usa principalmente para problemas de clasificación binaria.\n",
    "\n",
    "<img src=\"imgs\\Perceptron.svg\" width=\"400\"/>"
   ]
  }
 ],
 "metadata": {
  "kernelspec": {
   "display_name": "Python 3 (ipykernel)",
   "language": "python",
   "name": "python3"
  },
  "language_info": {
   "codemirror_mode": {
    "name": "ipython",
    "version": 3
   },
   "file_extension": ".py",
   "mimetype": "text/x-python",
   "name": "python",
   "nbconvert_exporter": "python",
   "pygments_lexer": "ipython3",
   "version": "3.12.5"
  }
 },
 "nbformat": 4,
 "nbformat_minor": 5
}
